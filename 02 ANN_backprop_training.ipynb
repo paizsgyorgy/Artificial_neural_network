{
 "cells": [
  {
   "cell_type": "code",
   "execution_count": 1,
   "metadata": {},
   "outputs": [],
   "source": [
    "from sklearn.datasets import make_moons\n",
    "import numpy as np\n",
    "import matplotlib.pyplot as plt\n",
    "import seaborn as sns\n",
    "from math import e\n",
    "from sklearn.metrics import accuracy_score\n",
    "%matplotlib inline"
   ]
  },
  {
   "cell_type": "markdown",
   "metadata": {},
   "source": [
    "---"
   ]
  },
  {
   "cell_type": "markdown",
   "metadata": {},
   "source": [
    "### Define all model functions "
   ]
  },
  {
   "cell_type": "code",
   "execution_count": 2,
   "metadata": {},
   "outputs": [],
   "source": [
    "## Define the main activation function of our neural network (sigmoid for binary classification)\n",
    "def sigmoid(x):\n",
    "    return 1 / (1 + e ** -x)"
   ]
  },
  {
   "cell_type": "code",
   "execution_count": 3,
   "metadata": {},
   "outputs": [],
   "source": [
    "## Define function for the feed forward neural network calculation with one hidden layer\n",
    "def feed_forward_sigmoid(X, weights0, weights1):\n",
    "    \"\"\"Returns the hidden layer and the output layer of a FFNN model\"\"\"\n",
    "    \n",
    "    ## step 1: X data is (50,2)\n",
    "    \n",
    "    ## step 2: add a bias columns, so X turns from (50,2) to (50,3) with added 1s\n",
    "    X = np.hstack((X,np.ones((X.shape[0],1))))\n",
    "    \n",
    "    ## step 3: dot product of X with weights0\n",
    "    d1 = np.dot(X, weights0)\n",
    "    \n",
    "    ## step 4: apply sigmoid activation function to each value in d1\n",
    "    s1 = sigmoid(d1)\n",
    "    \n",
    "    ## step 5: add bias column to the hidden layer -> this makes it (50,3), incl. bias\n",
    "    h0 = np.hstack((s1, np.ones((s1.shape[0],1))))\n",
    "    \n",
    "    ## step 6: dot pdocut of hidden layer h1 and weights1\n",
    "    d2 = np.dot(h0, weights1)\n",
    "    \n",
    "    ## step 7: apply sigmoid function to get the output layer\n",
    "    o2 = sigmoid(d2)\n",
    "    \n",
    "    ## Return the hidden layer and the output layer\n",
    "    return h0, o2"
   ]
  },
  {
   "cell_type": "code",
   "execution_count": 4,
   "metadata": {},
   "outputs": [],
   "source": [
    "## Define function to predict results from output layer probabilities\n",
    "def predict(output_probabilities):\n",
    "    return np.array([np.round(x) for x in output_probabilities])"
   ]
  },
  {
   "cell_type": "code",
   "execution_count": 5,
   "metadata": {},
   "outputs": [],
   "source": [
    "## Define the error of prediction\n",
    "def error(ytrue, ypred):\n",
    "    return ytrue - ypred"
   ]
  },
  {
   "cell_type": "code",
   "execution_count": 6,
   "metadata": {},
   "outputs": [],
   "source": [
    "## Define loss function to be used for optimization\n",
    "def logloss(ytrue, yprob):\n",
    "    return -(ytrue*np.log(yprob)+(1-ytrue)*np.log(1-yprob))"
   ]
  },
  {
   "cell_type": "code",
   "execution_count": 7,
   "metadata": {},
   "outputs": [],
   "source": [
    "## Define function that will take the derivative of our activation function (sigmoid)\n",
    "def sigmoid_derivative(yhat):\n",
    "    \"\"\"Returns the values of sig'(yhat)\"\"\"\n",
    "    sig = sigmoid(yhat)\n",
    "    return sig*(1-sig)"
   ]
  },
  {
   "cell_type": "code",
   "execution_count": 8,
   "metadata": {},
   "outputs": [],
   "source": [
    "## Calculate the gradient from a derivative, logloss function and error as inputs\n",
    "def gradient(derivative, logloss, error):\n",
    "    return derivative * logloss * error"
   ]
  },
  {
   "cell_type": "code",
   "execution_count": 9,
   "metadata": {},
   "outputs": [],
   "source": [
    "## Calculate the weight_delta\n",
    "def weight_delta(gradient, output_layer, learning_rate):\n",
    "    return -np.dot(gradient, output_layer) * learning_rate"
   ]
  },
  {
   "cell_type": "code",
   "execution_count": 10,
   "metadata": {},
   "outputs": [],
   "source": [
    "## Backpropagation main function\n",
    "\n",
    "def backprop_training(X, y, w0, w1, epochs=10, LR1=0.01, LR2=0.01):\n",
    "    \"\"\" Trains a feed forward neural network with one hidden layer.\n",
    "        Requires X and y as labelled input data and initialized random weights, w0 and w1.\n",
    "        You can specify the learning rate for both layers separately.\n",
    "        Returns the final trained weights of the model and a history of the log-losses after each epoch.\"\"\"\n",
    "    \n",
    "    loss_history = []\n",
    "    \n",
    "    for i in range(epochs):\n",
    "        #1) Run network and calculate hidden layer and output layer\n",
    "        hidden_layer, y_prob = feed_forward_sigmoid(X, w0, w1)\n",
    "        y_prob = y_prob.reshape(50)\n",
    "        y_pred = predict(y_prob)\n",
    "\n",
    "        #2) Calculate error with logloss function\n",
    "        lloss = logloss(y, y_prob)\n",
    "\n",
    "        #3) Calculate error to determine the direction which way the gradient should go\n",
    "        err = y - y_prob\n",
    "\n",
    "        #4) Take sigmoid derivative\n",
    "        sigm_prime = sigmoid_derivative(y_prob)\n",
    "\n",
    "        #5) Calculate the gradient of the output layer\n",
    "        grad1 = np.dot(sigm_prime, lloss) * err\n",
    "\n",
    "        #6) Calculate weights delta for the output layer (w1)\n",
    "        w1_delta = np.dot(grad1, hidden_layer) * LR1\n",
    "\n",
    "        #7) Calculate gradient of hidden layer\n",
    "        X_biased = np.hstack((X, np.ones((X.shape[0],1))))\n",
    "        grad0 = 1 * grad1 * w1[:2]\n",
    "\n",
    "        #8) Calculate weights delta for the hidden layer (w2)\n",
    "        w0_delta = np.dot(grad0, X_biased).T * LR2\n",
    "\n",
    "        #9) Calculate the updated output layer weights (w1)\n",
    "        w1 = w1 + w1_delta.reshape(3,1)\n",
    "\n",
    "        #10) Calculate the updated hidden layer weights (w0)\n",
    "        #w0 = w0 + w0_delta\n",
    "        \n",
    "        # Print lloss of current run\n",
    "        if i % (epochs / 10) == 0:\n",
    "            print(f'Loss in epoch {i+1}: {sum(lloss)}')\n",
    "        loss_history.append(sum(lloss))\n",
    "    \n",
    "    # Return the final weights and the loss_history over training\n",
    "    return w0, w1, loss_history"
   ]
  },
  {
   "cell_type": "markdown",
   "metadata": {},
   "source": [
    "---"
   ]
  },
  {
   "cell_type": "markdown",
   "metadata": {},
   "source": [
    "### Run training of the model with example dataset from sklearn (make_moons)"
   ]
  },
  {
   "cell_type": "code",
   "execution_count": 11,
   "metadata": {},
   "outputs": [],
   "source": [
    "#Initialize data and weights\n",
    "X, y = make_moons(n_samples=50, noise=0.2, random_state=42)\n",
    "w0 = np.random.rand(3,2)\n",
    "assert w0.shape == (3,2)\n",
    "w1 = np.random.rand(3,1)\n",
    "assert w1.shape == (3,1)"
   ]
  },
  {
   "cell_type": "code",
   "execution_count": 12,
   "metadata": {},
   "outputs": [
    {
     "data": {
      "text/plain": [
       "<matplotlib.collections.PathCollection at 0x1a220b4c18>"
      ]
     },
     "execution_count": 12,
     "metadata": {},
     "output_type": "execute_result"
    },
    {
     "data": {
      "image/png": "[encoded data removed]",
      "text/plain": [
       "<Figure size 432x288 with 1 Axes>"
      ]
     },
     "metadata": {
      "needs_background": "light"
     },
     "output_type": "display_data"
    }
   ],
   "source": [
    "plt.scatter(X[:,0], X[:,1], c=y)"
   ]
  },
  {
   "cell_type": "code",
   "execution_count": 13,
   "metadata": {},
   "outputs": [
    {
     "name": "stdout",
     "output_type": "stream",
     "text": [
      "Loss in epoch 1: 40.294323385558975\n",
      "Loss in epoch 10001: 26.474417933006247\n",
      "Loss in epoch 20001: 24.01970676670338\n",
      "Loss in epoch 30001: 22.777262091635414\n",
      "Loss in epoch 40001: 22.054150452992108\n",
      "Loss in epoch 50001: 21.596047012822225\n",
      "Loss in epoch 60001: 21.28900056543901\n",
      "Loss in epoch 70001: 21.074818325498455\n",
      "Loss in epoch 80001: 20.920924967686314\n",
      "Loss in epoch 90001: 20.80780876546707\n"
     ]
    }
   ],
   "source": [
    "trained_w0, trained_w1, losses = backprop_training(X, y, w0, w1, epochs=100000, LR1 = 0.001, LR2 = 0.01)"
   ]
  },
  {
   "cell_type": "code",
   "execution_count": 24,
   "metadata": {},
   "outputs": [
    {
     "data": {
      "image/png": "[encoded data removed]",
      "text/plain": [
       "<Figure size 432x288 with 1 Axes>"
      ]
     },
     "metadata": {
      "needs_background": "light"
     },
     "output_type": "display_data"
    }
   ],
   "source": [
    "_ = plt.plot((losses))"
   ]
  },
  {
   "cell_type": "code",
   "execution_count": 16,
   "metadata": {},
   "outputs": [],
   "source": [
    "hidden_l, y_prob = feed_forward_sigmoid(X, trained_w0, trained_w1)"
   ]
  },
  {
   "cell_type": "code",
   "execution_count": 17,
   "metadata": {},
   "outputs": [],
   "source": [
    "y_pred = predict(y_prob)"
   ]
  },
  {
   "cell_type": "code",
   "execution_count": 18,
   "metadata": {},
   "outputs": [
    {
     "data": {
      "text/plain": [
       "0.82"
      ]
     },
     "execution_count": 18,
     "metadata": {},
     "output_type": "execute_result"
    }
   ],
   "source": [
    "accuracy_score(y_pred, y)"
   ]
  },
  {
   "cell_type": "code",
   "execution_count": 22,
   "metadata": {},
   "outputs": [
    {
     "data": {
      "text/plain": [
       "(50,)"
      ]
     },
     "execution_count": 22,
     "metadata": {},
     "output_type": "execute_result"
    }
   ],
   "source": [
    "y_pred.flatten().shape"
   ]
  },
  {
   "cell_type": "code",
   "execution_count": 25,
   "metadata": {},
   "outputs": [
    {
     "data": {
      "image/png": "[encoded data removed]",
      "text/plain": [
       "<Figure size 432x288 with 1 Axes>"
      ]
     },
     "metadata": {
      "needs_background": "light"
     },
     "output_type": "display_data"
    }
   ],
   "source": [
    "_ = plt.scatter(X[:,0], X[:,1], c=y_pred.flatten())"
   ]
  },
  {
   "cell_type": "markdown",
   "metadata": {},
   "source": [
    "---"
   ]
  },
  {
   "cell_type": "markdown",
   "metadata": {},
   "source": [
    "### Breakdown solution (for testing)"
   ]
  },
  {
   "cell_type": "code",
   "execution_count": null,
   "metadata": {},
   "outputs": [],
   "source": [
    "#Initialize data and weights\n",
    "X, y = make_moons(n_samples=50, noise=0.2, random_state=42)\n",
    "w0 = np.random.rand(3,2)\n",
    "assert w0.shape == (3,2)\n",
    "w1 = np.random.rand(3,1)\n",
    "assert w1.shape == (3,1)"
   ]
  },
  {
   "cell_type": "code",
   "execution_count": null,
   "metadata": {},
   "outputs": [],
   "source": [
    "X.shape, w0.shape, w1.shape"
   ]
  },
  {
   "cell_type": "code",
   "execution_count": null,
   "metadata": {},
   "outputs": [],
   "source": [
    "#1) Run network and calculate hidden layer and output layer\n",
    "hidden_layer, y_prob = feed_forward_sigmoid(X, w0, w1)\n",
    "y_prob = y_prob.reshape(50)\n",
    "y_pred = predict(y_prob)"
   ]
  },
  {
   "cell_type": "code",
   "execution_count": null,
   "metadata": {},
   "outputs": [],
   "source": [
    "#2) Calculate error with logloss function\n",
    "lloss = logloss(y, y_prob)"
   ]
  },
  {
   "cell_type": "code",
   "execution_count": null,
   "metadata": {},
   "outputs": [],
   "source": [
    "#3) Calculate error to determine the direction which way the gradient should go\n",
    "err = y - y_prob"
   ]
  },
  {
   "cell_type": "code",
   "execution_count": null,
   "metadata": {},
   "outputs": [],
   "source": [
    "#4) Take sigmoid derivative\n",
    "sigm_prime = sigmoid_derivative(y_prob)"
   ]
  },
  {
   "cell_type": "code",
   "execution_count": null,
   "metadata": {},
   "outputs": [],
   "source": [
    "#5) Calculate the gradient of the last layer\n",
    "grad1 = np.dot(sigm_prime, lloss) * err"
   ]
  },
  {
   "cell_type": "code",
   "execution_count": null,
   "metadata": {},
   "outputs": [],
   "source": [
    "#6) Calcualte the weights delta for the second set of weights (weights1)\n",
    "LR1 = 0.01\n",
    "w1_delta = np.dot((grad1), hidden_layer) * LR1"
   ]
  },
  {
   "cell_type": "code",
   "execution_count": null,
   "metadata": {},
   "outputs": [],
   "source": [
    "#7) Calculate gradient of hidden layer and weight delta for first set out weights\n",
    "X_biased = np.hstack((X, np.ones((X.shape[0],1))))\n",
    "grad0 = 1 * grad1 * w1[:2]"
   ]
  },
  {
   "cell_type": "code",
   "execution_count": null,
   "metadata": {},
   "outputs": [],
   "source": [
    "#8) Calculate weights delta for the first layer of weights\n",
    "LR2 = 0.001\n",
    "w0_delta = np.dot(grad0, X_biased).T * LR2"
   ]
  },
  {
   "cell_type": "code",
   "execution_count": null,
   "metadata": {},
   "outputs": [],
   "source": [
    "#9) Calculate the new second set of weights in our NN (weights1)\n",
    "w1 = w1 + w1_delta.reshape(3,1)"
   ]
  },
  {
   "cell_type": "code",
   "execution_count": null,
   "metadata": {},
   "outputs": [],
   "source": [
    "#10) Calculate new weight0\n",
    "w0 = w0 + w0_delta"
   ]
  },
  {
   "cell_type": "code",
   "execution_count": 44,
   "metadata": {},
   "outputs": [
    {
     "name": "stdout",
     "output_type": "stream",
     "text": [
      "1\n",
      "10000\n",
      "20000\n",
      "30000\n",
      "40000\n",
      "50000\n",
      "60000\n",
      "70000\n",
      "80000\n",
      "90000\n",
      "100000\n"
     ]
    }
   ],
   "source": [
    "for i in range(0, 100001):\n",
    "    if i == 0:\n",
    "        print(i+1)\n",
    "    else:  \n",
    "        if (i) % (100000 / 10) == 0:\n",
    "            print(i)"
   ]
  },
  {
   "cell_type": "code",
   "execution_count": null,
   "metadata": {},
   "outputs": [],
   "source": []
  }
 ],
 "metadata": {
  "kernelspec": {
   "display_name": "Python 3",
   "language": "python",
   "name": "python3"
  },
  "language_info": {
   "codemirror_mode": {
    "name": "ipython",
    "version": 3
   },
   "file_extension": ".py",
   "mimetype": "text/x-python",
   "name": "python",
   "nbconvert_exporter": "python",
   "pygments_lexer": "ipython3",
   "version": "3.7.3"
  }
 },
 "nbformat": 4,
 "nbformat_minor": 4
}
