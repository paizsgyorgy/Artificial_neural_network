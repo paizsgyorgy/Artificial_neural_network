{
 "cells": [
  {
   "cell_type": "code",
   "execution_count": 1,
   "metadata": {},
   "outputs": [],
   "source": [
    "import numpy as np\n",
    "from math import e\n",
    "import seaborn as sns\n",
    "import matplotlib.pyplot as plt\n",
    "from sklearn.datasets import make_moons\n",
    "from sklearn.metrics import accuracy_score\n",
    "from tqdm import tqdm\n",
    "%matplotlib inline"
   ]
  },
  {
   "cell_type": "markdown",
   "metadata": {},
   "source": [
    "---"
   ]
  },
  {
   "cell_type": "markdown",
   "metadata": {},
   "source": [
    "### Define all model functions "
   ]
  },
  {
   "cell_type": "code",
   "execution_count": 2,
   "metadata": {},
   "outputs": [],
   "source": [
    "## Define the main activation function of our neural network (sigmoid for binary classification)\n",
    "def sigmoid(x):\n",
    "    return 1 / (1 + e ** -x)"
   ]
  },
  {
   "cell_type": "code",
   "execution_count": 15,
   "metadata": {},
   "outputs": [],
   "source": [
    "## Define function for the feed forward neural network calculation with one hidden layer\n",
    "def feed_forward_sigmoid(X, w0, w1):\n",
    "    \"\"\"Returns the hidden layer and the output layer of a FFNN model\"\"\"\n",
    "    \n",
    "    ## step 1: X data is (50,2)\n",
    "    assert X.shape == (50,2)\n",
    "    \n",
    "    ## step 2: add a bias columns, so X turns from (50,2) to (50,3) with added 1s\n",
    "    X = np.hstack((X,np.ones((X.shape[0],1))))\n",
    "    \n",
    "    ## step 3: dot product of X with weights0\n",
    "    d1 = np.dot(X, w0)\n",
    "    \n",
    "    ## step 4: apply sigmoid activation function to each value in d1\n",
    "    s1 = sigmoid(d1)\n",
    "    \n",
    "    ## step 5: add bias column to the hidden layer -> this makes it (50,3), incl. bias\n",
    "    h0 = np.hstack((s1, np.ones((s1.shape[0],1))))\n",
    "    \n",
    "    ## step 6: dot pdocut of hidden layer h1 and weights1\n",
    "    d2 = np.dot(h0, w1)\n",
    "    \n",
    "    ## step 7: apply sigmoid function to get the output layer\n",
    "    o2 = sigmoid(d2)\n",
    "    \n",
    "    ## Return the hidden layer and the output layer\n",
    "    return h0, o2"
   ]
  },
  {
   "cell_type": "code",
   "execution_count": 4,
   "metadata": {},
   "outputs": [],
   "source": [
    "## Define function to predict results from output layer probabilities\n",
    "def predict(output_probabilities):\n",
    "    return np.array([np.round(x) for x in output_probabilities])"
   ]
  },
  {
   "cell_type": "code",
   "execution_count": 5,
   "metadata": {},
   "outputs": [],
   "source": [
    "## Define the error of prediction\n",
    "def error(ytrue, ypred):\n",
    "    return ytrue - ypred"
   ]
  },
  {
   "cell_type": "code",
   "execution_count": 6,
   "metadata": {},
   "outputs": [],
   "source": [
    "## Define loss function to be used for optimization\n",
    "def logloss(ytrue, yprob):\n",
    "    return -(ytrue*np.log(yprob)+(1-ytrue)*np.log(1-yprob))"
   ]
  },
  {
   "cell_type": "code",
   "execution_count": 7,
   "metadata": {},
   "outputs": [],
   "source": [
    "## Define function that will take the derivative of our activation function (sigmoid)\n",
    "def sigmoid_derivative(yhat):\n",
    "    \"\"\"Returns the values of sig'(yhat)\"\"\"\n",
    "    sig = sigmoid(yhat)\n",
    "    return sig*(1-sig)"
   ]
  },
  {
   "cell_type": "code",
   "execution_count": 8,
   "metadata": {},
   "outputs": [],
   "source": [
    "## Calculate the gradient from a derivative, logloss function and error as inputs\n",
    "def gradient(derivative, logloss, error):\n",
    "    return derivative * logloss * error"
   ]
  },
  {
   "cell_type": "code",
   "execution_count": 9,
   "metadata": {},
   "outputs": [],
   "source": [
    "## Calculate the weight_delta\n",
    "def weight_delta(gradient, output_layer, learning_rate):\n",
    "    return -np.dot(gradient, output_layer) * learning_rate"
   ]
  },
  {
   "cell_type": "code",
   "execution_count": 10,
   "metadata": {},
   "outputs": [],
   "source": [
    "## Define backpropagation function to calculate adjusted weights of the network\n",
    "## This function only runs one epoch of backpropagation\n",
    "\n",
    "def backpropagation(X, y, w0, w1, LR0=0.01, LR1=0.001):\n",
    "    \"\"\" Runs backpropagation on feed-forward neural network once and returns\n",
    "        adjusted weights after the epoch.\"\"\"\n",
    "    #1) Run network and calculate hidden layer and output layer\n",
    "    hidden_layer, y_prob = feed_forward_sigmoid(X, w0, w1)\n",
    "    y_prob = y_prob.flatten()\n",
    "    y_pred = predict(y_prob)\n",
    "\n",
    "    #2) Calculate error with logloss function\n",
    "    lloss = logloss(y, y_prob)\n",
    "\n",
    "    #3) Calculate error to determine the direction of the gradient\n",
    "    err = error(y, y_prob)\n",
    "\n",
    "    #4) Take sigmoid derivative\n",
    "    sigm_prime = sigmoid_derivative(y_prob)\n",
    "\n",
    "    #5) Calculate the gradient of the output layer\n",
    "    grad1 = np.dot(sigm_prime, lloss) * err\n",
    "\n",
    "    #6) Calculate weights delta for the output layer (w1)\n",
    "    w1_delta = np.dot(grad1, hidden_layer) * LR1\n",
    "\n",
    "    #7) Calculate gradient of hidden layer\n",
    "    X_biased = np.hstack((X, np.ones((X.shape[0],1))))\n",
    "    grad0 = 1 * grad1 * w1[:2]\n",
    "\n",
    "    #8) Calculate weights delta for the hidden layer (w2)\n",
    "    w0_delta = np.dot(grad0, X_biased).T * LR0\n",
    "\n",
    "    #9) Calculate the updated output layer weights (w1)\n",
    "    w1 = w1 + w1_delta.reshape(3,1)\n",
    "\n",
    "    #10) Calculate the updated hidden layer weights (w0)\n",
    "    w0 = w0 + w0_delta\n",
    "\n",
    "    return w0, w1"
   ]
  },
  {
   "cell_type": "markdown",
   "metadata": {},
   "source": [
    "---"
   ]
  },
  {
   "cell_type": "markdown",
   "metadata": {},
   "source": [
    "### TESTING TIME "
   ]
  },
  {
   "cell_type": "code",
   "execution_count": 102,
   "metadata": {},
   "outputs": [],
   "source": [
    "#Initialize data and weights\n",
    "np.random.seed(42)\n",
    "X, y = make_moons(n_samples=50, noise=0.2, random_state=42)\n",
    "w0 = np.random.rand(3,2)\n",
    "assert w0.shape == (3,2)\n",
    "w1 = np.random.rand(3,1)\n",
    "assert w1.shape == (3,1)"
   ]
  },
  {
   "cell_type": "code",
   "execution_count": 103,
   "metadata": {},
   "outputs": [
    {
     "data": {
      "image/png": "[encoded data removed]",
      "text/plain": [
       "<Figure size 432x288 with 1 Axes>"
      ]
     },
     "metadata": {
      "needs_background": "light"
     },
     "output_type": "display_data"
    }
   ],
   "source": [
    "_ = plt.scatter(X[:,0], X[:,1], c=y)\n",
    "_ = plt.title('Original classiciation')"
   ]
  },
  {
   "cell_type": "markdown",
   "metadata": {},
   "source": [
    "---"
   ]
  },
  {
   "cell_type": "markdown",
   "metadata": {},
   "source": [
    "#### Let's run one epoch of backpropagation and see how the prediction looks "
   ]
  },
  {
   "cell_type": "code",
   "execution_count": 104,
   "metadata": {},
   "outputs": [
    {
     "data": {
      "image/png": "[encoded data removed]",
      "text/plain": [
       "<Figure size 432x288 with 1 Axes>"
      ]
     },
     "metadata": {
      "needs_background": "light"
     },
     "output_type": "display_data"
    }
   ],
   "source": [
    "w0, w1 = backpropagation(X, y, w0, w1)\n",
    "hidden_layer, y_prob = feed_forward_sigmoid(X, w0, w1)\n",
    "y_pred_1 = predict(y_prob).flatten()\n",
    "_ = plt.scatter(X[:,0], X[:,1], c=y_pred_1)\n",
    "_ = plt.title(f'Accuracy score of the model after 1 epoch: {accuracy_score(y_pred_1, y)}')"
   ]
  },
  {
   "cell_type": "markdown",
   "metadata": {},
   "source": [
    "---"
   ]
  },
  {
   "cell_type": "markdown",
   "metadata": {},
   "source": [
    "#### Let's run 500 epochs and see what our neural network has learnt"
   ]
  },
  {
   "cell_type": "code",
   "execution_count": 105,
   "metadata": {},
   "outputs": [
    {
     "name": "stderr",
     "output_type": "stream",
     "text": [
      "100%|██████████| 500/500 [00:00<00:00, 2903.72it/s]\n"
     ]
    }
   ],
   "source": [
    "for i in range(500):\n",
    "    w0, w1 = backpropagation(X, y, w0, w1)"
   ]
  },
  {
   "cell_type": "code",
   "execution_count": 106,
   "metadata": {},
   "outputs": [],
   "source": [
    "## Calculate new predictions\n",
    "hidden_layer, y_prob = feed_forward_sigmoid(X, w0, w1)\n",
    "y_pred = predict(y_prob).flatten()"
   ]
  },
  {
   "cell_type": "code",
   "execution_count": 107,
   "metadata": {},
   "outputs": [
    {
     "data": {
      "image/png": "[encoded data removed]",
      "text/plain": [
       "<Figure size 432x288 with 1 Axes>"
      ]
     },
     "metadata": {
      "needs_background": "light"
     },
     "output_type": "display_data"
    }
   ],
   "source": [
    "## Plot the prediction results\n",
    "_ = plt.scatter(X[:,0], X[:,1], c=y_pred)\n",
    "_ = plt. title(f'Accuracy score after 500 epochs is: {accuracy_score(y_pred, y)}')"
   ]
  },
  {
   "cell_type": "markdown",
   "metadata": {},
   "source": [
    "---"
   ]
  },
  {
   "cell_type": "markdown",
   "metadata": {},
   "source": [
    "#### Create a GIF visualising the learning process "
   ]
  },
  {
   "cell_type": "code",
   "execution_count": 95,
   "metadata": {},
   "outputs": [],
   "source": [
    "import imageio\n",
    "import os"
   ]
  },
  {
   "cell_type": "code",
   "execution_count": 92,
   "metadata": {},
   "outputs": [],
   "source": [
    "#Initialize data and weights again\n",
    "np.random.seed(42)\n",
    "X, y = make_moons(n_samples=50, noise=0.2, random_state=42)\n",
    "w0 = np.random.rand(3,2)\n",
    "assert w0.shape == (3,2)\n",
    "w1 = np.random.rand(3,1)\n",
    "assert w1.shape == (3,1)"
   ]
  },
  {
   "cell_type": "code",
   "execution_count": 94,
   "metadata": {},
   "outputs": [
    {
     "name": "stderr",
     "output_type": "stream",
     "text": [
      "100%|██████████| 20/20 [00:02<00:00,  8.97it/s]\n"
     ]
    }
   ],
   "source": [
    "for i in tqdm(range(20)):\n",
    "    ## Run backprop to adjust weights\n",
    "    w0, w1 = backpropagation(X, y, w0, w1)\n",
    "    ## Run neural net to get prediction\n",
    "    hidden_layer, y_prob = feed_forward_sigmoid(X, w0, w1)\n",
    "    y_pred = predict(y_prob).flatten()\n",
    "    _ = plt.scatter(X[:,0], X[:,1], c=y_pred)\n",
    "    _ = plt. title(f'Accuracy score after {i+1} epoch(s) is: {accuracy_score(y_pred, y)}')\n",
    "    _ = plt.savefig(fname = '../Output/backprop_learning_{}.png'.format(i))\n",
    "    _ = plt.close()"
   ]
  },
  {
   "cell_type": "code",
   "execution_count": 96,
   "metadata": {},
   "outputs": [],
   "source": [
    "images = []\n",
    "\n",
    "for i in range(20):\n",
    "    filename = '../Output/backprop_learning_{}.png'.format(i)\n",
    "    images.append(imageio.imread(filename))\n",
    "    os.remove('../Output/backprop_learning_{}.png'.format(i))\n",
    "\n",
    "imageio.mimsave('../Output/learning.gif', images, fps=2)"
   ]
  },
  {
   "cell_type": "markdown",
   "metadata": {},
   "source": [
    "---"
   ]
  }
 ],
 "metadata": {
  "kernelspec": {
   "display_name": "Python 3",
   "language": "python",
   "name": "python3"
  },
  "language_info": {
   "codemirror_mode": {
    "name": "ipython",
    "version": 3
   },
   "file_extension": ".py",
   "mimetype": "text/x-python",
   "name": "python",
   "nbconvert_exporter": "python",
   "pygments_lexer": "ipython3",
   "version": "3.7.3"
  }
 },
 "nbformat": 4,
 "nbformat_minor": 4
}
